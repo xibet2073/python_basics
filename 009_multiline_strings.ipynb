{
 "cells": [
  {
   "cell_type": "code",
   "execution_count": 3,
   "id": "c2da55e6",
   "metadata": {},
   "outputs": [
    {
     "data": {
      "text/plain": [
       "'This is line 1 This is line 2 This is line 3 This is line 4'"
      ]
     },
     "execution_count": 3,
     "metadata": {},
     "output_type": "execute_result"
    }
   ],
   "source": [
    "message = \"This is line 1 \\\n",
    "This is line 2 \\\n",
    "This is line 3 \\\n",
    "This is line 4\"\n",
    "message\n"
   ]
  },
  {
   "cell_type": "code",
   "execution_count": 6,
   "id": "9adbf742",
   "metadata": {},
   "outputs": [
    {
     "name": "stdout",
     "output_type": "stream",
     "text": [
      "This is line 1\n",
      "                        This is line 2\n",
      "                This is line 3\n",
      "            This is line 4    \n"
     ]
    }
   ],
   "source": [
    "message = \"\"\"This is line 1\n",
    "                        This is line 2\n",
    "                This is line 3\n",
    "            This is line 4    \"\"\"\n",
    "print(message)  # Tripe quotes preserves whitespace (using print function)"
   ]
  }
 ],
 "metadata": {
  "kernelspec": {
   "display_name": "Python 3 (ipykernel)",
   "language": "python",
   "name": "python3"
  },
  "language_info": {
   "codemirror_mode": {
    "name": "ipython",
    "version": 3
   },
   "file_extension": ".py",
   "mimetype": "text/x-python",
   "name": "python",
   "nbconvert_exporter": "python",
   "pygments_lexer": "ipython3",
   "version": "3.9.13"
  }
 },
 "nbformat": 4,
 "nbformat_minor": 5
}
