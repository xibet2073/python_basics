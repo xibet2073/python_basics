{
 "cells": [
  {
   "cell_type": "markdown",
   "id": "f390ab88-7e0b-4dd0-9ccc-91d0b1bcfc2d",
   "metadata": {},
   "source": [
    "## Concatenation, Indexing and Slicing "
   ]
  },
  {
   "cell_type": "markdown",
   "id": "10a5c188-e96d-4e95-a749-2a96a8dbe2f6",
   "metadata": {},
   "source": [
    "### String concatenation "
   ]
  },
  {
   "cell_type": "code",
   "execution_count": null,
   "id": "51516bf7-4d02-4312-b98e-1aa8c902da71",
   "metadata": {},
   "outputs": [],
   "source": []
  }
 ],
 "metadata": {
  "kernelspec": {
   "display_name": "Python 3 (ipykernel)",
   "language": "python",
   "name": "python3"
  },
  "language_info": {
   "codemirror_mode": {
    "name": "ipython",
    "version": 3
   },
   "file_extension": ".py",
   "mimetype": "text/x-python",
   "name": "python",
   "nbconvert_exporter": "python",
   "pygments_lexer": "ipython3",
   "version": "3.9.13"
  }
 },
 "nbformat": 4,
 "nbformat_minor": 5
}
