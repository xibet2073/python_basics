{
 "cells": [
  {
   "cell_type": "markdown",
   "id": "f390ab88-7e0b-4dd0-9ccc-91d0b1bcfc2d",
   "metadata": {},
   "source": [
    "## Concatenation, Indexing and Slicing "
   ]
  },
  {
   "cell_type": "markdown",
   "id": "10a5c188-e96d-4e95-a749-2a96a8dbe2f6",
   "metadata": {},
   "source": [
    "### String concatenation "
   ]
  },
  {
   "cell_type": "code",
   "execution_count": 5,
   "id": "51516bf7-4d02-4312-b98e-1aa8c902da71",
   "metadata": {},
   "outputs": [
    {
     "data": {
      "text/plain": [
       "'abracadabra'"
      ]
     },
     "execution_count": 5,
     "metadata": {},
     "output_type": "execute_result"
    }
   ],
   "source": [
    "string1 = \"abra\"\n",
    "string2 = \"cadabra\"\n",
    "magic_string = string1 + string2\n",
    "magic_string"
   ]
  },
  {
   "cell_type": "code",
   "execution_count": 6,
   "id": "72e0e274-817d-4f35-95b3-fb155fcf6da3",
   "metadata": {},
   "outputs": [
    {
     "data": {
      "text/plain": [
       "'Arthur Dent'"
      ]
     },
     "execution_count": 6,
     "metadata": {},
     "output_type": "execute_result"
    }
   ],
   "source": [
    "first_name = \"Arthur\"\n",
    "last_name = \"Dent\"\n",
    "full_name = first_name + \" \" + last_name\n",
    "full_name"
   ]
  },
  {
   "cell_type": "markdown",
   "id": "0999e2d3-1406-45f0-a711-cd86d862ec5f",
   "metadata": {},
   "source": [
    "### String indexing"
   ]
  },
  {
   "cell_type": "code",
   "execution_count": 7,
   "id": "968e5fcc-0db4-4f2b-a34f-21917459da2e",
   "metadata": {},
   "outputs": [
    {
     "data": {
      "text/plain": [
       "'p'"
      ]
     },
     "execution_count": 7,
     "metadata": {},
     "output_type": "execute_result"
    }
   ],
   "source": [
    "flavor = \"apple pie\"\n",
    "flavor[1]"
   ]
  },
  {
   "cell_type": "markdown",
   "id": "fcb89cd9-0bf6-4449-824d-a0e5dbaada08",
   "metadata": {},
   "source": [
    "#### Negative indices"
   ]
  },
  {
   "cell_type": "code",
   "execution_count": 8,
   "id": "f368f2bd-06bb-4c7f-b8f2-fbade348420d",
   "metadata": {},
   "outputs": [
    {
     "data": {
      "text/plain": [
       "'e'"
      ]
     },
     "execution_count": 8,
     "metadata": {},
     "output_type": "execute_result"
    }
   ],
   "source": [
    "flavor = \"apple pie\" #  -1 is the last chacacter\n",
    "flavor[-1]"
   ]
  }
 ],
 "metadata": {
  "kernelspec": {
   "display_name": "Python 3 (ipykernel)",
   "language": "python",
   "name": "python3"
  },
  "language_info": {
   "codemirror_mode": {
    "name": "ipython",
    "version": 3
   },
   "file_extension": ".py",
   "mimetype": "text/x-python",
   "name": "python",
   "nbconvert_exporter": "python",
   "pygments_lexer": "ipython3",
   "version": "3.9.13"
  }
 },
 "nbformat": 4,
 "nbformat_minor": 5
}
