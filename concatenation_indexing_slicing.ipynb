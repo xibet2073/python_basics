{
 "cells": [
  {
   "cell_type": "markdown",
   "id": "290f5d23-6981-4418-ad98-d432bf084752",
   "metadata": {},
   "source": [
    "## Concatenation, Indexing and Slicing \n",
    "### String concatenation "
   ]
  },
  {
   "cell_type": "code",
   "execution_count": 5,
   "id": "51516bf7-4d02-4312-b98e-1aa8c902da71",
   "metadata": {},
   "outputs": [
    {
     "data": {
      "text/plain": [
       "'abracadabra'"
      ]
     },
     "execution_count": 5,
     "metadata": {},
     "output_type": "execute_result"
    }
   ],
   "source": [
    "string1 = \"abra\"\n",
    "string2 = \"cadabra\"\n",
    "magic_string = string1 + string2\n",
    "magic_string"
   ]
  },
  {
   "cell_type": "code",
   "execution_count": 6,
   "id": "72e0e274-817d-4f35-95b3-fb155fcf6da3",
   "metadata": {},
   "outputs": [
    {
     "data": {
      "text/plain": [
       "'Arthur Dent'"
      ]
     },
     "execution_count": 6,
     "metadata": {},
     "output_type": "execute_result"
    }
   ],
   "source": [
    "first_name = \"Arthur\"\n",
    "last_name = \"Dent\"\n",
    "full_name = first_name + \" \" + last_name\n",
    "full_name"
   ]
  },
  {
   "cell_type": "markdown",
   "id": "0999e2d3-1406-45f0-a711-cd86d862ec5f",
   "metadata": {},
   "source": [
    "### String indexing"
   ]
  },
  {
   "cell_type": "code",
   "execution_count": 7,
   "id": "968e5fcc-0db4-4f2b-a34f-21917459da2e",
   "metadata": {},
   "outputs": [
    {
     "data": {
      "text/plain": [
       "'p'"
      ]
     },
     "execution_count": 7,
     "metadata": {},
     "output_type": "execute_result"
    }
   ],
   "source": [
    "flavor = \"apple pie\"\n",
    "flavor[1]"
   ]
  },
  {
   "cell_type": "markdown",
   "id": "fcb89cd9-0bf6-4449-824d-a0e5dbaada08",
   "metadata": {},
   "source": [
    "#### Negative indices"
   ]
  },
  {
   "cell_type": "code",
   "execution_count": 8,
   "id": "f368f2bd-06bb-4c7f-b8f2-fbade348420d",
   "metadata": {},
   "outputs": [
    {
     "data": {
      "text/plain": [
       "'e'"
      ]
     },
     "execution_count": 8,
     "metadata": {},
     "output_type": "execute_result"
    }
   ],
   "source": [
    "flavor = \"apple pie\" #  -1 is the last chacacter\n",
    "flavor[-1]"
   ]
  },
  {
   "cell_type": "markdown",
   "id": "50ee8354-6972-4e2e-b94a-3646a83a87de",
   "metadata": {},
   "source": [
    "### String slicing"
   ]
  },
  {
   "cell_type": "code",
   "execution_count": 2,
   "id": "51fa032a-b1f6-44d8-aac6-fd4c9f799221",
   "metadata": {},
   "outputs": [
    {
     "data": {
      "text/plain": [
       "'app'"
      ]
     },
     "execution_count": 2,
     "metadata": {},
     "output_type": "execute_result"
    }
   ],
   "source": [
    "flavor = \"apple pie\"   \n",
    "flavor[0:3]   "
   ]
  },
  {
   "cell_type": "code",
   "execution_count": 4,
   "id": "d9ee7fa3-9fa6-4506-b345-aec92fafd8a1",
   "metadata": {},
   "outputs": [
    {
     "data": {
      "text/plain": [
       "'apple'"
      ]
     },
     "execution_count": 4,
     "metadata": {},
     "output_type": "execute_result"
    }
   ],
   "source": [
    "flavor = \"apple pie\"  \n",
    "flavor[:5]   "
   ]
  },
  {
   "cell_type": "code",
   "execution_count": 5,
   "id": "4ccef6e2-0428-4073-9b8d-9869ede6c55e",
   "metadata": {},
   "outputs": [
    {
     "data": {
      "text/plain": [
       "' pie'"
      ]
     },
     "execution_count": 5,
     "metadata": {},
     "output_type": "execute_result"
    }
   ],
   "source": [
    "flavor = \"apple pie\"\n",
    "flavor[5:]"
   ]
  },
  {
   "cell_type": "code",
   "execution_count": 6,
   "id": "6ec0da15-5ade-44ce-a175-6ebdeb4f9356",
   "metadata": {},
   "outputs": [
    {
     "data": {
      "text/plain": [
       "'apple pie'"
      ]
     },
     "execution_count": 6,
     "metadata": {},
     "output_type": "execute_result"
    }
   ],
   "source": [
    "flavor = \"apple pie\"\n",
    "flavor[:]"
   ]
  },
  {
   "cell_type": "code",
   "execution_count": 9,
   "id": "94b707a5-925e-40f0-a6bf-6d771027db82",
   "metadata": {},
   "outputs": [
    {
     "data": {
      "text/plain": [
       "'apple pie'"
      ]
     },
     "execution_count": 9,
     "metadata": {},
     "output_type": "execute_result"
    }
   ],
   "source": [
    "flavor = \"apple pie\"\n",
    "flavor[:14]"
   ]
  },
  {
   "cell_type": "code",
   "execution_count": 10,
   "id": "45d1c3dc-e01d-4215-b120-b502d331d9a3",
   "metadata": {},
   "outputs": [
    {
     "data": {
      "text/plain": [
       "''"
      ]
     },
     "execution_count": 10,
     "metadata": {},
     "output_type": "execute_result"
    }
   ],
   "source": [
    "flavor = \"apple pie\"\n",
    "flavor[14:17]"
   ]
  },
  {
   "cell_type": "code",
   "execution_count": 11,
   "id": "1155ee9c-6152-4f3e-ab5e-6eca7a738b59",
   "metadata": {},
   "outputs": [
    {
     "data": {
      "text/plain": [
       "'app'"
      ]
     },
     "execution_count": 11,
     "metadata": {},
     "output_type": "execute_result"
    }
   ],
   "source": [
    "flavor = \"apple pie\"\n",
    "flavor[-9:-6]"
   ]
  },
  {
   "cell_type": "code",
   "execution_count": 12,
   "id": "968e8ba3-6787-4536-8e2e-98fb8a70d5d0",
   "metadata": {},
   "outputs": [
    {
     "data": {
      "text/plain": [
       "'e'"
      ]
     },
     "execution_count": 12,
     "metadata": {},
     "output_type": "execute_result"
    }
   ],
   "source": [
    "flavor = \"apple pie\"\n",
    "flavor[-1]"
   ]
  },
  {
   "cell_type": "code",
   "execution_count": 16,
   "id": "c192af1a-df16-46a6-a5ef-151794923122",
   "metadata": {},
   "outputs": [
    {
     "data": {
      "text/plain": [
       "'apple pi'"
      ]
     },
     "execution_count": 16,
     "metadata": {},
     "output_type": "execute_result"
    }
   ],
   "source": [
    "flavor = \"apple pie\"\n",
    "flavor[-9:-1]"
   ]
  },
  {
   "cell_type": "code",
   "execution_count": 1,
   "id": "93336d06-954c-4970-9b9d-d0987210eed4",
   "metadata": {},
   "outputs": [
    {
     "data": {
      "text/plain": [
       "'apple pie'"
      ]
     },
     "execution_count": 1,
     "metadata": {},
     "output_type": "execute_result"
    }
   ],
   "source": [
    "flavor = \"apple pie\"\n",
    "flavor[-9:]"
   ]
  },
  {
   "cell_type": "markdown",
   "id": "69234bc3-6489-4238-9a8e-d8f90e6d5346",
   "metadata": {},
   "source": [
    "### Strings are immutable"
   ]
  },
  {
   "cell_type": "code",
   "execution_count": 20,
   "id": "4a3d0cc4-5c54-4055-bd0d-997b3fdf37cd",
   "metadata": {},
   "outputs": [
    {
     "ename": "TypeError",
     "evalue": "'str' object does not support item assignment",
     "output_type": "error",
     "traceback": [
      "\u001b[0;31m---------------------------------------------------------------------------\u001b[0m",
      "\u001b[0;31mTypeError\u001b[0m                                 Traceback (most recent call last)",
      "\u001b[0;32m/tmp/ipykernel_6873/3442182897.py\u001b[0m in \u001b[0;36m<module>\u001b[0;34m\u001b[0m\n\u001b[1;32m      1\u001b[0m \u001b[0mword\u001b[0m \u001b[0;34m=\u001b[0m \u001b[0;34m\"goal\"\u001b[0m\u001b[0;34m\u001b[0m\u001b[0;34m\u001b[0m\u001b[0m\n\u001b[0;32m----> 2\u001b[0;31m \u001b[0mword\u001b[0m\u001b[0;34m[\u001b[0m\u001b[0;36m0\u001b[0m\u001b[0;34m]\u001b[0m \u001b[0;34m=\u001b[0m \u001b[0;34m\"f\"\u001b[0m\u001b[0;34m\u001b[0m\u001b[0;34m\u001b[0m\u001b[0m\n\u001b[0m",
      "\u001b[0;31mTypeError\u001b[0m: 'str' object does not support item assignment"
     ]
    }
   ],
   "source": [
    "word = \"goal\"\n",
    "word[0] = \"f\""
   ]
  },
  {
   "cell_type": "code",
   "execution_count": 23,
   "id": "24682fdc-ce54-477f-b54d-72ba05c23e74",
   "metadata": {},
   "outputs": [
    {
     "data": {
      "text/plain": [
       "'foal'"
      ]
     },
     "execution_count": 23,
     "metadata": {},
     "output_type": "execute_result"
    }
   ],
   "source": [
    "word = \"goal\"\n",
    "word = \"f\" + word[1:]\n",
    "word"
   ]
  },
  {
   "cell_type": "markdown",
   "id": "a9575a49-4156-4bae-9131-38b1e5603f7d",
   "metadata": {},
   "source": [
    "### Exercises"
   ]
  },
  {
   "cell_type": "code",
   "execution_count": 25,
   "id": "756a8e23-9bb9-448e-9ea5-dfa28b1b6207",
   "metadata": {},
   "outputs": [
    {
     "data": {
      "text/plain": [
       "'zing'"
      ]
     },
     "execution_count": 25,
     "metadata": {},
     "output_type": "execute_result"
    }
   ],
   "source": [
    "word = \"bazinga\"\n",
    "word[2:6]"
   ]
  }
 ],
 "metadata": {
  "kernelspec": {
   "display_name": "Python 3 (ipykernel)",
   "language": "python",
   "name": "python3"
  },
  "language_info": {
   "codemirror_mode": {
    "name": "ipython",
    "version": 3
   },
   "file_extension": ".py",
   "mimetype": "text/x-python",
   "name": "python",
   "nbconvert_exporter": "python",
   "pygments_lexer": "ipython3",
   "version": "3.9.13"
  }
 },
 "nbformat": 4,
 "nbformat_minor": 5
}
