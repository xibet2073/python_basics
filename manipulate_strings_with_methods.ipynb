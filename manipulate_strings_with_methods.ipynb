{
 "cells": [
  {
   "cell_type": "markdown",
   "id": "802d881b-1a86-4f3b-8b2c-7b92e1a89208",
   "metadata": {},
   "source": [
    "##  Manipulate Strings With Methods"
   ]
  },
  {
   "cell_type": "code",
   "execution_count": 1,
   "id": "02f13bb2-217c-49f8-9370-e9c49d243cdc",
   "metadata": {},
   "outputs": [
    {
     "data": {
      "text/plain": [
       "'jean-luc picard'"
      ]
     },
     "execution_count": 1,
     "metadata": {},
     "output_type": "execute_result"
    }
   ],
   "source": [
    "captain = \"Jean-Luc Picard\"\n",
    "captain.lower()"
   ]
  },
  {
   "cell_type": "code",
   "execution_count": 2,
   "id": "0c6ee49c-64af-46dc-b3b2-86c3bb07ce82",
   "metadata": {},
   "outputs": [
    {
     "data": {
      "text/plain": [
       "'CAN YOU YEAR ME?'"
      ]
     },
     "execution_count": 2,
     "metadata": {},
     "output_type": "execute_result"
    }
   ],
   "source": [
    "loud_voice = \"can you year me?\"\n",
    "loud_voice.upper()"
   ]
  },
  {
   "cell_type": "markdown",
   "id": "49ae5a04-82c7-4163-94d0-cba37b0b3ca1",
   "metadata": {},
   "source": [
    "###  Removing Whitespace From a String"
   ]
  },
  {
   "cell_type": "code",
   "execution_count": null,
   "id": "7e40b654-c8a6-4ade-bff3-6125a03965e7",
   "metadata": {},
   "outputs": [],
   "source": []
  }
 ],
 "metadata": {
  "kernelspec": {
   "display_name": "Python 3 (ipykernel)",
   "language": "python",
   "name": "python3"
  },
  "language_info": {
   "codemirror_mode": {
    "name": "ipython",
    "version": 3
   },
   "file_extension": ".py",
   "mimetype": "text/x-python",
   "name": "python",
   "nbconvert_exporter": "python",
   "pygments_lexer": "ipython3",
   "version": "3.9.13"
  }
 },
 "nbformat": 4,
 "nbformat_minor": 5
}
